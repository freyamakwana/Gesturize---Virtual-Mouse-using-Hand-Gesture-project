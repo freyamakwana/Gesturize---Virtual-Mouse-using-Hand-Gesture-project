{
 "cells": [
  {
   "cell_type": "code",
   "execution_count": 84,
   "id": "9a563090-6ff0-49d4-9415-26cc8aa6196a",
   "metadata": {},
   "outputs": [
    {
     "name": "stdout",
     "output_type": "stream",
     "text": [
      "Requirement already satisfied: pyautogui in c:\\users\\freya\\anaconda3\\envs\\mediapipe\\lib\\site-packages (0.9.54)\n",
      "Requirement already satisfied: pymsgbox in c:\\users\\freya\\anaconda3\\envs\\mediapipe\\lib\\site-packages (from pyautogui) (1.0.9)\n",
      "Requirement already satisfied: pytweening>=1.0.4 in c:\\users\\freya\\anaconda3\\envs\\mediapipe\\lib\\site-packages (from pyautogui) (1.2.0)\n",
      "Requirement already satisfied: pyscreeze>=0.1.21 in c:\\users\\freya\\anaconda3\\envs\\mediapipe\\lib\\site-packages (from pyautogui) (1.0.1)\n",
      "Requirement already satisfied: pygetwindow>=0.0.5 in c:\\users\\freya\\anaconda3\\envs\\mediapipe\\lib\\site-packages (from pyautogui) (0.0.9)\n",
      "Requirement already satisfied: mouseinfo in c:\\users\\freya\\anaconda3\\envs\\mediapipe\\lib\\site-packages (from pyautogui) (0.1.3)\n",
      "Requirement already satisfied: pyrect in c:\\users\\freya\\anaconda3\\envs\\mediapipe\\lib\\site-packages (from pygetwindow>=0.0.5->pyautogui) (0.2.0)\n",
      "Requirement already satisfied: Pillow>=9.2.0 in c:\\users\\freya\\anaconda3\\envs\\mediapipe\\lib\\site-packages (from pyscreeze>=0.1.21->pyautogui) (11.1.0)\n",
      "Requirement already satisfied: pyperclip in c:\\users\\freya\\anaconda3\\envs\\mediapipe\\lib\\site-packages (from mouseinfo->pyautogui) (1.9.0)\n",
      "Note: you may need to restart the kernel to use updated packages.\n"
     ]
    }
   ],
   "source": [
    "%pip install pyautogui"
   ]
  },
  {
   "cell_type": "code",
   "execution_count": 85,
   "id": "afbb2ccc-18e5-415d-b6c1-74c7de4b70bb",
   "metadata": {},
   "outputs": [],
   "source": [
    "import cv2\n",
    "import mediapipe as mp\n",
    "import pyautogui\n",
    "import random\n",
    "from pynput.mouse import Button, Controller\n",
    "import util  # Assuming you have util.py in the same directory!\n",
    "\n",
    "# Mouse control\n",
    "mouse = Controller()\n",
    "\n",
    "# Screen resolution\n",
    "screen_width, screen_height = pyautogui.size()\n",
    "\n",
    "# Load images with transparency\n",
    "heart_img = cv2.imread('C:/Users/Freya/OneDrive/Desktop/Projects/Gesturize/Heart.png', cv2.IMREAD_UNCHANGED)\n",
    "thumbs_up_img = cv2.imread('C:/Users/Freya/OneDrive/Desktop/Projects/Gesturize/Thumbs_up.png', cv2.IMREAD_UNCHANGED)\n",
    "\n",
    "if heart_img is None:\n",
    "    print(\"Error: heart image not loaded!\")\n",
    "if thumbs_up_img is None:\n",
    "    print(\"Error: thumbs up image not loaded!\")\n",
    "\n",
    "# Mediapipe setup\n",
    "mpHands = mp.solutions.hands\n",
    "hands = mpHands.Hands(static_image_mode=False,\n",
    "                      model_complexity=1,\n",
    "                      min_detection_confidence=0.7,\n",
    "                      min_tracking_confidence=0.7,\n",
    "                      max_num_hands=1)\n",
    "mpDraw = mp.solutions.drawing_utils"
   ]
  },
  {
   "cell_type": "code",
   "execution_count": 86,
   "id": "45644f69-83db-4a9b-a00b-cfc5bf755cfc",
   "metadata": {},
   "outputs": [],
   "source": [
    "def overlay_transparent(background, overlay, x, y, overlay_size=None):\n",
    "    # Resize overlay if necessary\n",
    "    if overlay_size is not None:\n",
    "        overlay = cv2.resize(overlay, overlay_size, interpolation=cv2.INTER_AREA)\n",
    "\n",
    "    # Check if overlay has alpha channel\n",
    "    if overlay.shape[2] < 4:\n",
    "        print(\"Overlay image has no alpha channel\")\n",
    "        return\n",
    "\n",
    "    b, g, r, a = cv2.split(overlay)\n",
    "    overlay_color = cv2.merge((b, g, r))\n",
    "    \n",
    "    mask = cv2.merge((a, a, a))  # Create 3 channel alpha mask\n",
    "\n",
    "    h, w, _ = overlay_color.shape\n",
    "    roi = background[y:y+h, x:x+w]\n",
    "\n",
    "    # Ensure roi matches mask size\n",
    "    if roi.shape[0] != mask.shape[0] or roi.shape[1] != mask.shape[1]:\n",
    "        print(\"ROI and mask sizes do not match.\")\n",
    "        return\n",
    "\n",
    "    # Blend the overlay with the background\n",
    "    img1_bg = cv2.bitwise_and(roi, cv2.bitwise_not(mask))\n",
    "    img2_fg = cv2.bitwise_and(overlay_color, mask)\n",
    "\n",
    "    dst = cv2.add(img1_bg, img2_fg)\n",
    "\n",
    "    background[y:y+h, x:x+w] = dst\n"
   ]
  },
  {
   "cell_type": "code",
   "execution_count": 87,
   "id": "d84b6753-6b32-4556-a5e9-6902cc3f8327",
   "metadata": {},
   "outputs": [],
   "source": [
    "def find_finger_tip(processed):\n",
    "    if processed.multi_hand_landmarks:\n",
    "        hand_landmarks = processed.multi_hand_landmarks[0]\n",
    "        index_finger_tip = hand_landmarks.landmark[mpHands.HandLandmark.INDEX_FINGER_TIP]\n",
    "        return index_finger_tip\n",
    "    return None"
   ]
  },
  {
   "cell_type": "code",
   "execution_count": 88,
   "id": "a134d41e-0571-4480-9c1a-2961c4a59cfe",
   "metadata": {},
   "outputs": [],
   "source": [
    "def move_mouse(index_finger_tip):\n",
    "    if index_finger_tip:\n",
    "        x = int(index_finger_tip.x * screen_width)\n",
    "        y = int(index_finger_tip.y * screen_height)\n",
    "        pyautogui.moveTo(x, y)"
   ]
  },
  {
   "cell_type": "code",
   "execution_count": 89,
   "id": "60391ae3-8cd6-4eea-965d-be755b9727de",
   "metadata": {},
   "outputs": [],
   "source": [
    "def is_left_click(landmarks, thumb_index_dist):\n",
    "    return (util.get_angle(landmarks[5], landmarks[6], landmarks[8]) < 50 and\n",
    "            util.get_angle(landmarks[9], landmarks[10], landmarks[12]) > 90 and\n",
    "            thumb_index_dist > 50)\n",
    "\n",
    "def is_right_click(landmarks, thumb_index_dist):\n",
    "    return (util.get_angle(landmarks[9], landmarks[10], landmarks[12]) < 50 and\n",
    "            util.get_angle(landmarks[5], landmarks[6], landmarks[8]) > 90 and\n",
    "            thumb_index_dist > 50)\n",
    "\n",
    "def is_double_click(landmarks, thumb_index_dist):\n",
    "    return (util.get_angle(landmarks[5], landmarks[6], landmarks[8]) < 50 and\n",
    "            util.get_angle(landmarks[9], landmarks[10], landmarks[12]) < 50 and\n",
    "            thumb_index_dist > 50)\n",
    "\n",
    "def is_screenshot(landmarks, thumb_index_dist):\n",
    "    return (util.get_angle(landmarks[5], landmarks[6], landmarks[8]) < 50 and\n",
    "            util.get_angle(landmarks[9], landmarks[10], landmarks[12]) < 50 and\n",
    "            thumb_index_dist < 50)\n",
    "\n",
    "def is_heart_gesture(landmarks):\n",
    "    thumb_tip = landmarks[4]\n",
    "    index_tip = landmarks[8]\n",
    "    distance = util.get_distance([thumb_tip, index_tip])\n",
    "    return distance < 50"
   ]
  },
  {
   "cell_type": "code",
   "execution_count": 90,
   "id": "e18103c5",
   "metadata": {},
   "outputs": [],
   "source": [
    "def is_thumbs_up_gesture(landmark_list):\n",
    "    thumb_tip = landmark_list[4]\n",
    "    index_tip = landmark_list[8]\n",
    "    middle_tip = landmark_list[12]\n",
    "    ring_tip = landmark_list[16]\n",
    "    pinky_tip = landmark_list[20]\n",
    "\n",
    "    # Thumb should be up (higher y), other fingers should be down (lower y)\n",
    "    thumb_is_up = thumb_tip[1] < index_tip[1] and thumb_tip[1] < middle_tip[1]\n",
    "    fingers_folded = (\n",
    "        index_tip[1] > landmark_list[5][1] and\n",
    "        middle_tip[1] > landmark_list[9][1] and\n",
    "        ring_tip[1] > landmark_list[13][1] and\n",
    "        pinky_tip[1] > landmark_list[17][1]\n",
    "    )\n",
    "\n",
    "    return thumb_is_up and fingers_folded"
   ]
  },
  {
   "cell_type": "code",
   "execution_count": 91,
   "id": "72173ee8-e6e0-495c-9fae-8b9139f7d123",
   "metadata": {},
   "outputs": [],
   "source": [
    "def detect_gesture(frame, landmark_list, processed):\n",
    "    if len(landmark_list) >= 21:\n",
    "        index_finger_tip = find_finger_tip(processed)\n",
    "        thumb_index_dist = util.get_distance([landmark_list[4], landmark_list[5]])\n",
    "\n",
    "        # Mouse Move\n",
    "        if util.get_distance([landmark_list[4], landmark_list[5]]) < 50 and \\\n",
    "                util.get_angle(landmark_list[5], landmark_list[6], landmark_list[8]) > 90:\n",
    "            move_mouse(index_finger_tip)\n",
    "\n",
    "        # Left Click\n",
    "        elif is_left_click(landmark_list, thumb_index_dist):\n",
    "            mouse.press(Button.left)\n",
    "            mouse.release(Button.left)\n",
    "            cv2.putText(frame, \"Left Click\", (50, 50), cv2.FONT_HERSHEY_SIMPLEX, 1, (0, 255, 0), 2)\n",
    "\n",
    "        # Right Click\n",
    "        elif is_right_click(landmark_list, thumb_index_dist):\n",
    "            mouse.press(Button.right)\n",
    "            mouse.release(Button.right)\n",
    "            cv2.putText(frame, \"Right Click\", (50, 50), cv2.FONT_HERSHEY_SIMPLEX, 1, (0, 0, 255), 2)\n",
    "\n",
    "        # Double Click\n",
    "        elif is_double_click(landmark_list, thumb_index_dist):\n",
    "            pyautogui.doubleClick()\n",
    "            cv2.putText(frame, \"Double Click\", (50, 50), cv2.FONT_HERSHEY_SIMPLEX, 1, (255, 255, 0), 2)\n",
    "\n",
    "        # Screenshot\n",
    "        elif is_screenshot(landmark_list, thumb_index_dist):\n",
    "            im1 = pyautogui.screenshot()\n",
    "            label = random.randint(1, 1000)\n",
    "            im1.save(f'my_screenshot_{label}.png')\n",
    "            cv2.putText(frame, \"Screenshot Taken\", (50, 50), cv2.FONT_HERSHEY_SIMPLEX, 1, (255, 255, 0), 2)\n",
    "\n",
    "        # Heart Gesture (with transparent overlay)\n",
    "        elif is_heart_gesture(landmark_list):\n",
    "            cv2.putText(frame, \"HEART\", (50, 150), cv2.FONT_HERSHEY_SIMPLEX, 2, (0, 0, 255), 4)\n",
    "            overlay_transparent(frame, heart_img, 100, 100, overlay_size=(100, 100))\n",
    "\n",
    "         # Thumbs Up Gesture\n",
    "        elif is_thumbs_up_gesture(landmark_list):\n",
    "            cv2.putText(frame, \"THUMBS UP!\", (50, 200), cv2.FONT_HERSHEY_SIMPLEX, 2, (0, 255, 0), 4)\n",
    "            overlay_transparent(frame, thumbs_up_img, 250, 100, overlay_size=(100, 100))"
   ]
  },
  {
   "cell_type": "code",
   "execution_count": 92,
   "id": "33c90928-1e94-4c0f-a576-00242b95ffb7",
   "metadata": {},
   "outputs": [
    {
     "ename": "KeyboardInterrupt",
     "evalue": "",
     "output_type": "error",
     "traceback": [
      "\u001b[1;31m---------------------------------------------------------------------------\u001b[0m",
      "\u001b[1;31mKeyboardInterrupt\u001b[0m                         Traceback (most recent call last)",
      "Cell \u001b[1;32mIn[92], line 35\u001b[0m\n\u001b[0;32m     31\u001b[0m         cv2\u001b[38;5;241m.\u001b[39mdestroyAllWindows()\n\u001b[0;32m     34\u001b[0m \u001b[38;5;28;01mif\u001b[39;00m \u001b[38;5;18m__name__\u001b[39m \u001b[38;5;241m==\u001b[39m \u001b[38;5;124m'\u001b[39m\u001b[38;5;124m__main__\u001b[39m\u001b[38;5;124m'\u001b[39m:\n\u001b[1;32m---> 35\u001b[0m     \u001b[43mmain\u001b[49m\u001b[43m(\u001b[49m\u001b[43m)\u001b[49m\n",
      "Cell \u001b[1;32mIn[92], line 12\u001b[0m, in \u001b[0;36mmain\u001b[1;34m()\u001b[0m\n\u001b[0;32m     10\u001b[0m frame \u001b[38;5;241m=\u001b[39m cv2\u001b[38;5;241m.\u001b[39mflip(frame, \u001b[38;5;241m1\u001b[39m)\n\u001b[0;32m     11\u001b[0m frameRGB \u001b[38;5;241m=\u001b[39m cv2\u001b[38;5;241m.\u001b[39mcvtColor(frame, cv2\u001b[38;5;241m.\u001b[39mCOLOR_BGR2RGB)\n\u001b[1;32m---> 12\u001b[0m results \u001b[38;5;241m=\u001b[39m \u001b[43mhands\u001b[49m\u001b[38;5;241;43m.\u001b[39;49m\u001b[43mprocess\u001b[49m\u001b[43m(\u001b[49m\u001b[43mframeRGB\u001b[49m\u001b[43m)\u001b[49m\n\u001b[0;32m     14\u001b[0m landmark_list \u001b[38;5;241m=\u001b[39m []\n\u001b[0;32m     16\u001b[0m \u001b[38;5;28;01mif\u001b[39;00m results\u001b[38;5;241m.\u001b[39mmulti_hand_landmarks:\n",
      "File \u001b[1;32mc:\\Users\\Freya\\anaconda3\\envs\\mediapipe\\lib\\site-packages\\mediapipe\\python\\solutions\\hands.py:153\u001b[0m, in \u001b[0;36mHands.process\u001b[1;34m(self, image)\u001b[0m\n\u001b[0;32m    132\u001b[0m \u001b[38;5;28;01mdef\u001b[39;00m\u001b[38;5;250m \u001b[39m\u001b[38;5;21mprocess\u001b[39m(\u001b[38;5;28mself\u001b[39m, image: np\u001b[38;5;241m.\u001b[39mndarray) \u001b[38;5;241m-\u001b[39m\u001b[38;5;241m>\u001b[39m NamedTuple:\n\u001b[0;32m    133\u001b[0m \u001b[38;5;250m  \u001b[39m\u001b[38;5;124;03m\"\"\"Processes an RGB image and returns the hand landmarks and handedness of each detected hand.\u001b[39;00m\n\u001b[0;32m    134\u001b[0m \n\u001b[0;32m    135\u001b[0m \u001b[38;5;124;03m  Args:\u001b[39;00m\n\u001b[1;32m   (...)\u001b[0m\n\u001b[0;32m    150\u001b[0m \u001b[38;5;124;03m         right hand) of the detected hand.\u001b[39;00m\n\u001b[0;32m    151\u001b[0m \u001b[38;5;124;03m  \"\"\"\u001b[39;00m\n\u001b[1;32m--> 153\u001b[0m   \u001b[38;5;28;01mreturn\u001b[39;00m \u001b[38;5;28;43msuper\u001b[39;49m\u001b[43m(\u001b[49m\u001b[43m)\u001b[49m\u001b[38;5;241;43m.\u001b[39;49m\u001b[43mprocess\u001b[49m\u001b[43m(\u001b[49m\u001b[43minput_data\u001b[49m\u001b[38;5;241;43m=\u001b[39;49m\u001b[43m{\u001b[49m\u001b[38;5;124;43m'\u001b[39;49m\u001b[38;5;124;43mimage\u001b[39;49m\u001b[38;5;124;43m'\u001b[39;49m\u001b[43m:\u001b[49m\u001b[43m \u001b[49m\u001b[43mimage\u001b[49m\u001b[43m}\u001b[49m\u001b[43m)\u001b[49m\n",
      "File \u001b[1;32mc:\\Users\\Freya\\anaconda3\\envs\\mediapipe\\lib\\site-packages\\mediapipe\\python\\solution_base.py:340\u001b[0m, in \u001b[0;36mSolutionBase.process\u001b[1;34m(self, input_data)\u001b[0m\n\u001b[0;32m    334\u001b[0m   \u001b[38;5;28;01melse\u001b[39;00m:\n\u001b[0;32m    335\u001b[0m     \u001b[38;5;28mself\u001b[39m\u001b[38;5;241m.\u001b[39m_graph\u001b[38;5;241m.\u001b[39madd_packet_to_input_stream(\n\u001b[0;32m    336\u001b[0m         stream\u001b[38;5;241m=\u001b[39mstream_name,\n\u001b[0;32m    337\u001b[0m         packet\u001b[38;5;241m=\u001b[39m\u001b[38;5;28mself\u001b[39m\u001b[38;5;241m.\u001b[39m_make_packet(input_stream_type,\n\u001b[0;32m    338\u001b[0m                                  data)\u001b[38;5;241m.\u001b[39mat(\u001b[38;5;28mself\u001b[39m\u001b[38;5;241m.\u001b[39m_simulated_timestamp))\n\u001b[1;32m--> 340\u001b[0m \u001b[38;5;28;43mself\u001b[39;49m\u001b[38;5;241;43m.\u001b[39;49m\u001b[43m_graph\u001b[49m\u001b[38;5;241;43m.\u001b[39;49m\u001b[43mwait_until_idle\u001b[49m\u001b[43m(\u001b[49m\u001b[43m)\u001b[49m\n\u001b[0;32m    341\u001b[0m \u001b[38;5;66;03m# Create a NamedTuple object where the field names are mapping to the graph\u001b[39;00m\n\u001b[0;32m    342\u001b[0m \u001b[38;5;66;03m# output stream names.\u001b[39;00m\n\u001b[0;32m    343\u001b[0m \u001b[38;5;28;01mif\u001b[39;00m \u001b[38;5;28mself\u001b[39m\u001b[38;5;241m.\u001b[39m_output_stream_type_info \u001b[38;5;129;01mis\u001b[39;00m \u001b[38;5;28;01mNone\u001b[39;00m:\n",
      "\u001b[1;31mKeyboardInterrupt\u001b[0m: "
     ]
    }
   ],
   "source": [
    "def main():\n",
    "    cap = cv2.VideoCapture(0)\n",
    "\n",
    "    try:\n",
    "        while cap.isOpened():\n",
    "            ret, frame = cap.read()\n",
    "            if not ret:\n",
    "                break\n",
    "\n",
    "            frame = cv2.flip(frame, 1)\n",
    "            frameRGB = cv2.cvtColor(frame, cv2.COLOR_BGR2RGB)\n",
    "            results = hands.process(frameRGB)\n",
    "\n",
    "            landmark_list = []\n",
    "\n",
    "            if results.multi_hand_landmarks:\n",
    "                for handLms in results.multi_hand_landmarks:\n",
    "                    mpDraw.draw_landmarks(frame, handLms, mpHands.HAND_CONNECTIONS)\n",
    "                    for lm in handLms.landmark:\n",
    "                        landmark_list.append((lm.x, lm.y))\n",
    "\n",
    "                detect_gesture(frame, landmark_list, results)\n",
    "\n",
    "            cv2.imshow(\"Virtual Mouse with Heart Gesture\", frame)\n",
    "\n",
    "            if cv2.waitKey(1) & 0xFF == ord('q'):\n",
    "                break\n",
    "\n",
    "    finally:\n",
    "        cap.release()\n",
    "        cv2.destroyAllWindows()\n",
    "\n",
    "\n",
    "if __name__ == '__main__':\n",
    "    main()"
   ]
  },
  {
   "cell_type": "code",
   "execution_count": null,
   "id": "98b9eadd-7b4d-47a7-a734-4ef8960bf38d",
   "metadata": {},
   "outputs": [
    {
     "name": "stdout",
     "output_type": "stream",
     "text": [
      "(707, 353, 4)\n"
     ]
    }
   ],
   "source": [
    "print(heart_img.shape)"
   ]
  },
  {
   "cell_type": "code",
   "execution_count": null,
   "id": "44f390f6-f2da-405f-8b25-8420ff1cd015",
   "metadata": {},
   "outputs": [],
   "source": []
  }
 ],
 "metadata": {
  "kernelspec": {
   "display_name": "mediapipe",
   "language": "python",
   "name": "python3"
  },
  "language_info": {
   "codemirror_mode": {
    "name": "ipython",
    "version": 3
   },
   "file_extension": ".py",
   "mimetype": "text/x-python",
   "name": "python",
   "nbconvert_exporter": "python",
   "pygments_lexer": "ipython3",
   "version": "3.10.16"
  }
 },
 "nbformat": 4,
 "nbformat_minor": 5
}
